{
  "nbformat": 4,
  "nbformat_minor": 0,
  "metadata": {
    "colab": {
      "provenance": [],
      "authorship_tag": "ABX9TyPw+xRjiLgSMp8sggNgHjOw",
      "include_colab_link": true
    },
    "kernelspec": {
      "name": "python3",
      "display_name": "Python 3"
    },
    "language_info": {
      "name": "python"
    },
    "gpuClass": "standard"
  },
  "cells": [
    {
      "cell_type": "markdown",
      "metadata": {
        "id": "view-in-github",
        "colab_type": "text"
      },
      "source": [
        "<a href=\"https://colab.research.google.com/github/darrengao628/ProtTrans/blob/master/Fine_tune_ESM.ipynb\" target=\"_parent\"><img src=\"https://colab.research.google.com/assets/colab-badge.svg\" alt=\"Open In Colab\"/></a>"
      ]
    },
    {
      "cell_type": "code",
      "execution_count": 2,
      "metadata": {
        "colab": {
          "base_uri": "https://localhost:8080/"
        },
        "id": "s5RqUYI7DRqJ",
        "outputId": "55cd93ea-1329-4d47-c7fd-1ec8bbcf6955"
      },
      "outputs": [
        {
          "output_type": "stream",
          "name": "stdout",
          "text": [
            "Looking in indexes: https://pypi.org/simple, https://us-python.pkg.dev/colab-wheels/public/simple/\n",
            "Collecting transformers\n",
            "  Using cached transformers-4.26.1-py3-none-any.whl (6.3 MB)\n",
            "Collecting evaluate\n",
            "  Using cached evaluate-0.4.0-py3-none-any.whl (81 kB)\n",
            "Collecting datasets\n",
            "  Using cached datasets-2.10.1-py3-none-any.whl (469 kB)\n",
            "Requirement already satisfied: requests in /usr/local/lib/python3.9/dist-packages (2.25.1)\n",
            "Requirement already satisfied: pandas in /usr/local/lib/python3.9/dist-packages (1.4.4)\n",
            "Collecting sklearn\n",
            "  Using cached sklearn-0.0.post1.tar.gz (3.6 kB)\n",
            "  \u001b[1;31merror\u001b[0m: \u001b[1msubprocess-exited-with-error\u001b[0m\n",
            "  \n",
            "  \u001b[31m×\u001b[0m \u001b[32mpython setup.py egg_info\u001b[0m did not run successfully.\n",
            "  \u001b[31m│\u001b[0m exit code: \u001b[1;36m1\u001b[0m\n",
            "  \u001b[31m╰─>\u001b[0m See above for output.\n",
            "  \n",
            "  \u001b[1;35mnote\u001b[0m: This error originates from a subprocess, and is likely not a problem with pip.\n",
            "  Preparing metadata (setup.py) ... \u001b[?25l\u001b[?25herror\n",
            "\u001b[1;31merror\u001b[0m: \u001b[1mmetadata-generation-failed\u001b[0m\n",
            "\n",
            "\u001b[31m×\u001b[0m Encountered error while generating package metadata.\n",
            "\u001b[31m╰─>\u001b[0m See above for output.\n",
            "\n",
            "\u001b[1;35mnote\u001b[0m: This is an issue with the package mentioned above, not pip.\n",
            "\u001b[1;36mhint\u001b[0m: See above for details.\n"
          ]
        }
      ],
      "source": [
        "!pip install transformers evaluate datasets requests pandas sklearn huggingface_hub"
      ]
    },
    {
      "cell_type": "code",
      "source": [
        "!pip evaluate"
      ],
      "metadata": {
        "id": "Ba-SybHi8Jxa",
        "outputId": "760b648a-8668-425e-9f94-8fa39bf3404b",
        "colab": {
          "base_uri": "https://localhost:8080/"
        }
      },
      "execution_count": 3,
      "outputs": [
        {
          "output_type": "stream",
          "name": "stdout",
          "text": [
            "ERROR: unknown command \"evaluate\"\n"
          ]
        }
      ]
    },
    {
      "cell_type": "code",
      "source": [
        "from huggingface_hub import notebook_login\n",
        "\n",
        "notebook_login()"
      ],
      "metadata": {
        "colab": {
          "base_uri": "https://localhost:8080/",
          "height": 409
        },
        "id": "SVii4_ukDVYy",
        "outputId": "27725c56-b6c0-43bb-910b-385eb1e98623"
      },
      "execution_count": 4,
      "outputs": [
        {
          "output_type": "error",
          "ename": "ModuleNotFoundError",
          "evalue": "ignored",
          "traceback": [
            "\u001b[0;31m---------------------------------------------------------------------------\u001b[0m",
            "\u001b[0;31mModuleNotFoundError\u001b[0m                       Traceback (most recent call last)",
            "\u001b[0;32m<ipython-input-4-41e75d75ab4a>\u001b[0m in \u001b[0;36m<module>\u001b[0;34m\u001b[0m\n\u001b[0;32m----> 1\u001b[0;31m \u001b[0;32mfrom\u001b[0m \u001b[0mhuggingface_hub\u001b[0m \u001b[0;32mimport\u001b[0m \u001b[0mnotebook_login\u001b[0m\u001b[0;34m\u001b[0m\u001b[0;34m\u001b[0m\u001b[0m\n\u001b[0m\u001b[1;32m      2\u001b[0m \u001b[0;34m\u001b[0m\u001b[0m\n\u001b[1;32m      3\u001b[0m \u001b[0mnotebook_login\u001b[0m\u001b[0;34m(\u001b[0m\u001b[0;34m)\u001b[0m\u001b[0;34m\u001b[0m\u001b[0;34m\u001b[0m\u001b[0m\n",
            "\u001b[0;31mModuleNotFoundError\u001b[0m: No module named 'huggingface_hub'",
            "",
            "\u001b[0;31m---------------------------------------------------------------------------\u001b[0;32m\nNOTE: If your import is failing due to a missing package, you can\nmanually install dependencies using either !pip or !apt.\n\nTo view examples of installing some common dependencies, click the\n\"Open Examples\" button below.\n\u001b[0;31m---------------------------------------------------------------------------\u001b[0m\n"
          ],
          "errorDetails": {
            "actions": [
              {
                "action": "open_url",
                "actionText": "Open Examples",
                "url": "/notebooks/snippets/importing_libraries.ipynb"
              }
            ]
          }
        }
      ]
    },
    {
      "cell_type": "code",
      "source": [
        "def data_prep(seq):# Data prepation \n",
        "    import pandas as pd\n",
        "    df=pd.read_csv(seq)\n",
        "    df.dropna()\n",
        "    cyto=df[\"Subcellular location [CC]\"].str.contains(\"Cytosol\") | df[\"Subcellular location [CC]\"].str.contains(\"Cytoplasm\")\n",
        "    mem=df[\"Subcellular location [CC]\"].str.contains(\"Membrane\") | df[\"Subcellular location [CC]\"].str.contains(\"Cell membrane\")\n",
        "    cyto_df=df[cyto& ~mem]\n",
        "    cyto_seq=cyto_df[\"Sequence\"].tolist()\n",
        "    cyto_labels=[0 for protein in cyto_seq]\n",
        "    mem_df=df[mem& ~cyto]\n",
        "    mem_seq=mem_df[\"Sequence\"].tolist()\n",
        "    mem_labels=[1 for protein in mem_seq]\n",
        "    seq = cyto_seq + mem_seq\n",
        "    labels=cyto_labels + mem_labels\n",
        "    return seq,labels"
      ],
      "metadata": {
        "id": "TklusQf7DXEb"
      },
      "execution_count": null,
      "outputs": []
    },
    {
      "cell_type": "code",
      "source": [
        "def data_prep(seq_path):# Data prepation \n",
        "    import pandas as pd\n",
        "    df=pd.read_csv(seq_path)\n",
        "    seq=df[\"seq\"].tolist()\n",
        "    labels=df[\"labels\"].tolist()\n",
        "    return seq,labels"
      ],
      "metadata": {
        "id": "iOXFbXgsV7Rt"
      },
      "execution_count": null,
      "outputs": []
    },
    {
      "cell_type": "code",
      "source": [
        "seq,labels=data_prep(\"/content/100_seq.csv\")\n",
        "len(labels),len(seq)"
      ],
      "metadata": {
        "id": "XQKD6MdkDaVD"
      },
      "execution_count": null,
      "outputs": []
    },
    {
      "cell_type": "code",
      "source": [
        "def data_loader_prep (seq, labels,model_checkpoint):\n",
        "    from sklearn.model_selection import train_test_split\n",
        "    from transformers import AutoTokenizer\n",
        "    from datasets import Dataset\n",
        "    train_seq, test_seq, train_labels, test_labels = train_test_split(seq, labels, test_size =0.25,shuffle=True)\n",
        "    tokenizer = AutoTokenizer.from_pretrained(model_checkpoint)\n",
        "    train_tokenized=tokenizer(train_seq)\n",
        "    test_tokenized=tokenizer(test_seq)\n",
        "    train_ds=Dataset.from_dict(train_tokenized)\n",
        "    test_ds=Dataset.from_dict(test_tokenized)\n",
        "    train_ds = train_ds.add_column(\"labels\", train_labels)\n",
        "    test_ds = test_ds.add_column(\"labels\", test_labels)\n",
        "    return train_ds, train_labels, test_ds,test_labels\n",
        "    "
      ],
      "metadata": {
        "id": "S7uK_lFiDfRN"
      },
      "execution_count": null,
      "outputs": []
    },
    {
      "cell_type": "code",
      "source": [
        "model_checkpoint=\"facebook/esm2_t12_35M_UR50D\"\n",
        "train_ds, train_labels, test_ds,test_labels = data_loader_prep (seq, labels, model_checkpoint)\n",
        "train_ds,test_ds "
      ],
      "metadata": {
        "id": "CctypUvgDfTq"
      },
      "execution_count": null,
      "outputs": []
    },
    {
      "cell_type": "code",
      "source": [
        "from transformers import AutoModelForSequenceClassification, TrainingArguments, Trainer\n",
        "from transformers import AutoTokenizer\n",
        "num_labels = max(train_labels + test_labels) + 1  # Add 1 since 0 can be a label\n",
        "model = AutoModelForSequenceClassification.from_pretrained(model_checkpoint, num_labels=num_labels)\n",
        "tokenizer = AutoTokenizer.from_pretrained(model_checkpoint)"
      ],
      "metadata": {
        "id": "y2qP5gzbDfWV"
      },
      "execution_count": null,
      "outputs": []
    },
    {
      "cell_type": "code",
      "source": [
        "model_name=model_checkpoint.split('/')[-1]"
      ],
      "metadata": {
        "id": "0pIn_kPcDfY8"
      },
      "execution_count": null,
      "outputs": []
    },
    {
      "cell_type": "code",
      "source": [
        "batch_size = 8\n",
        "\n",
        "args = TrainingArguments(\n",
        "    f\"{model_name}_Finetuned_localization_March_14_colab_100_seq_Epochs_50\",\n",
        "    evaluation_strategy = \"epoch\",\n",
        "    save_strategy = \"epoch\",\n",
        "    learning_rate=2e-5,\n",
        "    per_device_train_batch_size=batch_size,\n",
        "    per_device_eval_batch_size=batch_size,\n",
        "    num_train_epochs=50,\n",
        "    weight_decay=0.01,\n",
        "    load_best_model_at_end=True,\n",
        "    metric_for_best_model=\"accuracy\",\n",
        "    push_to_hub=True,\n",
        ")\n",
        "\n",
        "from evaluate import load\n",
        "import numpy as np\n",
        "\n",
        "metric = load(\"accuracy\")\n",
        "\n",
        "def compute_metrics(eval_pred):\n",
        "    predictions, labels = eval_pred\n",
        "    predictions = np.argmax(predictions, axis=1)\n",
        "    return metric.compute(predictions=predictions, references=labels)"
      ],
      "metadata": {
        "id": "PRiOQadDDfbp"
      },
      "execution_count": null,
      "outputs": []
    },
    {
      "cell_type": "code",
      "source": [
        "trainer = Trainer(\n",
        "    model,\n",
        "    args,\n",
        "    train_dataset=train_ds,\n",
        "    eval_dataset=test_ds,\n",
        "    tokenizer=tokenizer,\n",
        "    compute_metrics=compute_metrics,\n",
        ")"
      ],
      "metadata": {
        "id": "2qgi08DqDfeQ"
      },
      "execution_count": null,
      "outputs": []
    },
    {
      "cell_type": "code",
      "source": [
        "trainer.train()"
      ],
      "metadata": {
        "id": "VfoOs4KNEgpF"
      },
      "execution_count": null,
      "outputs": []
    },
    {
      "cell_type": "code",
      "source": [],
      "metadata": {
        "id": "rbX-JHCkDaXa"
      },
      "execution_count": null,
      "outputs": []
    },
    {
      "cell_type": "code",
      "source": [],
      "metadata": {
        "id": "YtbgKa_ADaZ5"
      },
      "execution_count": null,
      "outputs": []
    },
    {
      "cell_type": "code",
      "source": [
        "from transformers import pipeline"
      ],
      "metadata": {
        "id": "5mbDtkbMDact"
      },
      "execution_count": null,
      "outputs": []
    },
    {
      "cell_type": "code",
      "source": [
        "pipe = pipeline(model=\"Darren628/esm2_t12_35M_UR50D_Finetuned_localization_March_14_colab_100_seq\")"
      ],
      "metadata": {
        "id": "iN0f0_9sDafP"
      },
      "execution_count": null,
      "outputs": []
    },
    {
      "cell_type": "code",
      "source": [
        "import pandas as pd"
      ],
      "metadata": {
        "id": "ExXjzzqIyjov"
      },
      "execution_count": null,
      "outputs": []
    },
    {
      "cell_type": "code",
      "source": [
        "cytodf=pd.read_csv(\"/content/cyto_seq.csv\")"
      ],
      "metadata": {
        "id": "ljxmHTmEDah3"
      },
      "execution_count": null,
      "outputs": []
    },
    {
      "cell_type": "code",
      "source": [
        "memdf=pd.read_csv(\"/content/mem_seq.csv\")"
      ],
      "metadata": {
        "id": "gBgiwqrDDakQ"
      },
      "execution_count": null,
      "outputs": []
    },
    {
      "cell_type": "code",
      "source": [
        "cytodf"
      ],
      "metadata": {
        "id": "HmIlsjkfDam2"
      },
      "execution_count": null,
      "outputs": []
    },
    {
      "cell_type": "code",
      "source": [
        "memdf"
      ],
      "metadata": {
        "id": "I8z8x_IxDapZ"
      },
      "execution_count": null,
      "outputs": []
    },
    {
      "cell_type": "code",
      "source": [
        "seq=cytodf.loc[5,\"seq\"]\n",
        "seq"
      ],
      "metadata": {
        "id": "3dPFCQw30Ca1"
      },
      "execution_count": null,
      "outputs": []
    },
    {
      "cell_type": "code",
      "source": [
        "pred=pipe(seq)\n"
      ],
      "metadata": {
        "id": "DZIwzvZw2qPG"
      },
      "execution_count": null,
      "outputs": []
    },
    {
      "cell_type": "code",
      "source": [
        "pred=pipe(seq)\n",
        "for item in pred:\n",
        "  print(item['label'])\n",
        "  for d in item:\n",
        "    print(d)\n",
        "\n"
      ],
      "metadata": {
        "id": "4qQVlR32zCg2"
      },
      "execution_count": null,
      "outputs": []
    },
    {
      "cell_type": "code",
      "source": [
        "label_0_count = 0\n",
        "label_1_count = 0\n",
        "\n",
        "for i in range(200):\n",
        "  seq=cytodf.loc[i,\"seq\"]\n",
        "  print(f\"Prediction the {i}st seq\")\n",
        "  pred=pipe(seq)\n",
        "  for d in pred:\n",
        "   \n",
        "      if d['label'] == 'LABEL_0':\n",
        "          label_0_count += 1\n",
        "      elif d['label'] == 'LABEL_1':\n",
        "          label_1_count += 1\n",
        "print(f\"LABEL_0 count: {label_0_count}\")\n",
        "print(f\"LABEL_1 count: {label_1_count}\")            \n",
        "  \n"
      ],
      "metadata": {
        "id": "4cH8frEk0BmC"
      },
      "execution_count": null,
      "outputs": []
    },
    {
      "cell_type": "code",
      "source": [
        "label_0_count = 0\n",
        "label_1_count = 0\n",
        "\n",
        "for i in range(200):\n",
        "  seq=memdf.loc[i,\"seq\"]\n",
        "  pred=pipe(seq)\n",
        "  for d in pred:\n",
        "   \n",
        "      if d['label'] == 'LABEL_0':\n",
        "          label_0_count += 1\n",
        "      elif d['label'] == 'LABEL_1':\n",
        "          label_1_count += 1\n",
        "print(f\"LABEL_0 count: {label_0_count}\")\n",
        "print(f\"LABEL_1 count: {label_1_count}\")  "
      ],
      "metadata": {
        "id": "JFq-bElF3OeK"
      },
      "execution_count": null,
      "outputs": []
    },
    {
      "cell_type": "code",
      "source": [
        "# Test 200 seq model"
      ],
      "metadata": {
        "id": "X74SqJGW3oDU"
      },
      "execution_count": null,
      "outputs": []
    },
    {
      "cell_type": "markdown",
      "source": [
        "# Test 200 seq model\n"
      ],
      "metadata": {
        "id": "mU7qH7mY3vZH"
      }
    },
    {
      "cell_type": "code",
      "source": [
        "pip_200 = pipe = pipeline(model=\"Darren628/esm2_t12_35M_UR50D_Finetuned_localization_March_14_colab\")"
      ],
      "metadata": {
        "id": "OOuQdrYY3oFo"
      },
      "execution_count": null,
      "outputs": []
    },
    {
      "cell_type": "code",
      "source": [
        "pip_full = pipe = pipeline(model=\"Darren628/esm2_t12_35M_UR50D_Finetuned_localization_March_9\")"
      ],
      "metadata": {
        "id": "C9yM1kcc6RP6"
      },
      "execution_count": null,
      "outputs": []
    },
    {
      "cell_type": "code",
      "source": [
        "for i in range(5):\n",
        "  seq=memdf.loc[i,\"seq\"]\n",
        "  print(f\"Prediction the {i}st seq\")\n",
        "  pred=pip_full(seq)\n",
        "  print(pred)"
      ],
      "metadata": {
        "id": "XtaUIXei3oIQ"
      },
      "execution_count": null,
      "outputs": []
    },
    {
      "cell_type": "code",
      "source": [
        "for i in range(5):\n",
        "  seq=cytodf.loc[i,\"seq\"]\n",
        "  print(f\"Prediction the {i}st seq\")\n",
        "  pred=pip_full(seq)\n",
        "  print(pred)"
      ],
      "metadata": {
        "id": "s1YbJDZq3oK6"
      },
      "execution_count": null,
      "outputs": []
    },
    {
      "cell_type": "code",
      "source": [],
      "metadata": {
        "id": "2QtzxaVA3oNi"
      },
      "execution_count": null,
      "outputs": []
    },
    {
      "cell_type": "code",
      "source": [],
      "metadata": {
        "id": "AZmt_CuU3oQB"
      },
      "execution_count": null,
      "outputs": []
    },
    {
      "cell_type": "code",
      "source": [],
      "metadata": {
        "id": "CBw6FWzR3oS6"
      },
      "execution_count": null,
      "outputs": []
    },
    {
      "cell_type": "code",
      "source": [],
      "metadata": {
        "id": "0hZc0EXu3oWL"
      },
      "execution_count": null,
      "outputs": []
    },
    {
      "cell_type": "code",
      "source": [],
      "metadata": {
        "id": "ZORzHrIV3oZn"
      },
      "execution_count": null,
      "outputs": []
    }
  ]
}